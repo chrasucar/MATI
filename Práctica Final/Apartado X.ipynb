{
 "cells": [
  {
   "cell_type": "markdown",
   "metadata": {},
   "source": [
    "# Apartado X. Aplicación de Kruskal y Dijkstra a redes multicast"
   ]
  },
  {
   "cell_type": "markdown",
   "metadata": {},
   "source": [
    "En la representación de redes multicast y para calcular valores de tranporte de datos o montaje de las mismas podemos usar 2 algoritmos de la teoría de grafos para saber por qué enlaces va a llegar la información de manera que sean los más cortos desde un nodo emisor a los demás routers (kruskal) o si envío un mensaje desde un nodo emisor a uno receptor, cuáles son los enlaces más cortos por los que pasa para que llegue la información (Dijkstra).\n",
    "\n",
    "El algoritmo de Kruskal viene a representar un árbol recubridor de peso mínimo, de manera que la información llegue a todos los nodos por los enlaces más cortos y, el algoritmo de Dijkstra viene a resolver el problema del camino mínimo. Un camimo mínimo es un árbol recubridor utilizado para la búsqueda de camino de peso mínimo de aristas.\n",
    "\n",
    "En el **algoritmo de kruskal**, lo primero que tenemos que cerciorarnos es de que el grafo sea conexo y funciona de la siguiente manera:\n",
    "- Se crea un bosque B (un conjunto de árboles), donde cada vértice del grafo es un árbol separado\n",
    "- Se crea un conjunto C que contenga a todas las aristas del grafo\n",
    "- Mientras C es no vacío\n",
    "    - Eliminar una arista de peso mínimo de C\n",
    "    - Si esa arista conecta dos árboles diferentes se añade al bosque, combinando los dos árboles en un solo árbol\n",
    "    - En caso contario, se desecha la arista\n",
    "\n",
    "Al final, el bosque tendrá una sola componente, el cuál formará un árbol de expansión mínimo del grafo.\n",
    "\n",
    "En el **algoritmo de Dijkstra** Se parte de un vértice inicial **s** a un vértice final t, y tenemos que comprobar que todas las aristas tengan un peso ponderado positivo, cuya suma tiene que ser la menor posible.\n",
    "\n",
    "El funcionamiento del Algoritmo es el siguinete:\n",
    "\n",
    "- En cada iteracióna a cada vértice v ∈ V se le asignan dos etiquetas que pueden ser temporales o permanentes (&,P):\n",
    "    - La etiqueta & es una estimación de la longitud del camino mínimo desde el vértice inicial hasta el actual.\n",
    "    - La etiqueta P es una estimación del predecesor del vértice v en dicho camino.\n",
    "\n",
    "El objetivo principal de este ejercicio es estudiar el comportamiento del algoritmo para la transmisión de información en redes multicast, es decir, a través del algoritmo consguiremos construir una red de routers repartidos de manera que se utilice la menor cantidad posible de clables entre los nodos.\n",
    "\n",
    "Para ello va a ser necesario calcular el camino más corto que une cualquier par de nodos de la red, así como el coste de la trasnmisión. Para ello se ha de ejecutar el algoritmo consecutivamente tomando en cada caso, como nodo de origen, cada uno de los nodos del grafo."
   ]
  },
  {
   "cell_type": "markdown",
   "metadata": {},
   "source": [
    "Añadimos algunas funciones necesarias para resolver el ejercicio:"
   ]
  },
  {
   "cell_type": "code",
   "execution_count": 9,
   "metadata": {},
   "outputs": [],
   "source": [
    "def arbol_bfs(digrafo,vertice):\n",
    "    '''\n",
    "    (T,l)=arbol_bfs(digrafo,vertice) devuelve el árbol BFS del \"digrafo\" con raíz \n",
    "    en \"vertice\" y la lista ordenada de vértices visitados.   \n",
    "    Si quisieras obtener el bfs de un grafo simple G, antes habrás de convertirlo \n",
    "    en digrafo con la orden G.to_directed()\n",
    "    '''\n",
    "       \n",
    "    visitado=[False for i in range(digrafo.order())]\n",
    "    vertices_bfs=[]\n",
    "    aristas_bfs=[]\n",
    "    cola=[]\n",
    "    \n",
    "    vertices_bfs.append(vertice)\n",
    "    cola.append(vertice)\n",
    "    indice=digrafo.vertices().index(vertice)\n",
    "    visitado[indice]=True\n",
    "    while len(cola)>0:\n",
    "        x=cola[0]\n",
    "        for i in sorted(digrafo.neighbors_out(x)):\n",
    "            indice=digrafo.vertices().index(i)\n",
    "            if not visitado[indice]:\n",
    "                cola.append(i)\n",
    "                visitado[indice]=True\n",
    "                vertices_bfs.append(i)\n",
    "                aristas_bfs.append((x,i))\n",
    "        cola.remove(x)\n",
    "    \n",
    "    arbolbfs=DiGraph()\n",
    "    arbolbfs.add_vertices(vertices_bfs)\n",
    "    arbolbfs.add_edges(aristas_bfs)  \n",
    "    return (arbolbfs,vertices_bfs)"
   ]
  },
  {
   "cell_type": "code",
   "execution_count": 13,
   "metadata": {},
   "outputs": [],
   "source": [
    "def Kruskal(grafo):\n",
    "    \n",
    "    \n",
    "    if not grafo.is_connected():\n",
    "        #Si el grafo no es conexo lo advierte.\n",
    "        print (\"Lo siento. El grafo no es conexo.\")\n",
    "        return (Graph(),0)\n",
    "    else:\n",
    "        if not grafo.weighted():\n",
    "            #Si el grafo no es ponderado lo convierte a ponderado\n",
    "            #con las aristas de peso=1\n",
    "            grafo.weighted(True)\n",
    "            for a in grafo.edges():\n",
    "                grafo.set_edge_label(a[0],a[1],1)\n",
    "    \n",
    "        funcion_peso = lambda e: grafo.edge_label(e[0],e[1])\n",
    "        aristas=grafo.min_spanning_tree(weight_function=funcion_peso)\n",
    "        recubridor=Graph()\n",
    "        recubridor.weighted(True)\n",
    "        recubridor.add_edges(aristas)\n",
    "        \n",
    "        #Colocamos el peso de las aristas del árbol recubridor\n",
    "        for a in recubridor.edges():\n",
    "            recubridor.set_edge_label(a[0],a[1],grafo.edge_label(a[0],a[1]))\n",
    "    \n",
    "        #Sumamos el peso del árbol\n",
    "        peso=0\n",
    "        for b in recubridor.edges():\n",
    "            peso+=recubridor.edge_label(b[0],b[1])\n",
    "    \n",
    "        return (recubridor,peso)"
   ]
  },
  {
   "cell_type": "code",
   "execution_count": 15,
   "metadata": {},
   "outputs": [],
   "source": [
    "def Djkstra(G,s):\n",
    "    \n",
    "    #Si G no es ponderado poner peso 1 a las aristas\n",
    "    if not G.weighted():\n",
    "        G.weighted(True)\n",
    "        for a in G.edges():\n",
    "            G.set_edge_label(a[0],a[1],1)\n",
    "    \n",
    "    #Controlar si G es conexo\n",
    "    if not G.is_connected():\n",
    "        print (\"El grafo no es conexo.\")\n",
    "        print (\"Se obtendrá el árbol de camino mínimo de la componente conexa del vértice \")\n",
    "    \n",
    "    cc=G.connected_component_containing_vertex(s)\n",
    "    vtodos=G.vertices()\n",
    "  \n",
    "    \n",
    "    n=G.order()\n",
    "    Padres=[[] for _ in range(n)] #Inicializar padres de los vértices\n",
    "    D=[1000000000 for _ in range(n)] #Etiquetas igual a \"infinito\"\n",
    "\n",
    "    inds=vtodos.index(s)\n",
    "    D[inds]=0\n",
    "    Q=set(cc)\n",
    "    while len(Q)>0:\n",
    "        #Buscamos el vértice de Q con menor etiqueta\n",
    "        v=None\n",
    "        low=1000000000\n",
    "        for u in Q:\n",
    "            indu=vtodos.index(u)\n",
    "            if D[indu]<low:\n",
    "                v=u\n",
    "                low=D[indu]\n",
    "        #Actualizamos etiquetas\n",
    "        indv=vtodos.index(v)\n",
    "        Q.remove(v)\n",
    "        Adj=set(G.neighbors(v))\n",
    "        for u in Adj.intersection(Q):\n",
    "            larista=G.edge_label(v,u)\n",
    "            indu=vtodos.index(u)\n",
    "            if D[indu]>D[indv]+larista:\n",
    "                D[indu]=D[indv]+larista\n",
    "                Padres[indu]=[v]\n",
    "    P={}  #Dicionario con los padres de cada vértice\n",
    "    for u in cc:\n",
    "        indu=vtodos.index(u)\n",
    "        P.setdefault(u,Padres[indu])             \n",
    "    T=Graph(P) #Árbol de camino mínimo\n",
    "    T.weighted(True)\n",
    "    for a in T.edges():\n",
    "        T.set_edge_label(a[0],a[1],G.edge_label(a[0],a[1]))\n",
    "    \n",
    "    return D,T"
   ]
  },
  {
   "cell_type": "markdown",
   "metadata": {},
   "source": [
    "Se pide:"
   ]
  },
  {
   "cell_type": "markdown",
   "metadata": {},
   "source": [
    "**a) Determinar un esquema que utilice el menor número de enlaces posibles y la menor distancia de manera que podamos enviar un mensaje desde el router A al resto de routers, para poder formar nuestra red con la menor cantidad de cable posible.**"
   ]
  },
  {
   "cell_type": "markdown",
   "metadata": {},
   "source": [
    "En primer lugar construimos el grafo:"
   ]
  },
  {
   "cell_type": "code",
   "execution_count": 7,
   "metadata": {},
   "outputs": [],
   "source": [
    "GA=Graph(weighted=True)\n",
    "aristas=[('A', 'B', 5), ('A', 'C', 7), ('B', 'C', 2), ('D', 'E', 2), ('B', 'D', 9), ('B', 'E', 5), ('D', 'C', 8),\n",
    "         ('C', 'E', 6), ('D', 'F', 5), ('E', 'F', 16), ('F', 'I', 23), ('C', 'I', 5), ('C', 'H', 6), ('C', 'G', 11), \n",
    "         ('G', 'B', 12)]\n",
    "GA.add_edges(aristas)"
   ]
  },
  {
   "cell_type": "code",
   "execution_count": 18,
   "metadata": {},
   "outputs": [
    {
     "data": {
      "image/png": "[encoded data removed]",
      "text/plain": [
       "Graphics object consisting of 18 graphics primitives"
      ]
     },
     "execution_count": 18,
     "metadata": {},
     "output_type": "execute_result"
    }
   ],
   "source": [
    "#Lo hacemos dirigido y mostramos el grafo convertido a árbol:\n",
    "GAp=GA.to_directed()\n",
    "(BFS, lista)=arbol_bfs(GAp, 'A')\n",
    "BFS.plot(figsize=9, layout='tree')"
   ]
  },
  {
   "cell_type": "code",
   "execution_count": 19,
   "metadata": {},
   "outputs": [
    {
     "data": {
      "image/png": "[encoded data removed]",
      "text/plain": [
       "Graphics object consisting of 26 graphics primitives"
      ]
     },
     "execution_count": 19,
     "metadata": {},
     "output_type": "execute_result"
    }
   ],
   "source": [
    "(K,p)=Kruskal(GAp)\n",
    "K.plot(layout='tree', edge_labels=True, figsize=10)"
   ]
  },
  {
   "cell_type": "markdown",
   "metadata": {},
   "source": [
    "**b) Determinar un camino por los enlaces más cortos de manera que podamos enviar un mensaje desde el router A hasta el router F.**"
   ]
  },
  {
   "cell_type": "code",
   "execution_count": 21,
   "metadata": {},
   "outputs": [
    {
     "name": "stdout",
     "output_type": "stream",
     "text": [
      "El camino más corto para ir de A a F es:  [['A', 'B', 'E', 'D', 'F']]\n"
     ]
    }
   ],
   "source": [
    "(D, DJ) = Djkstra(GAp,'A')\n",
    "DJ.plot(layout='tree', edge_labels=True, figsize=10)\n",
    "print(\"El camino más corto para ir de A a F es: \", DJ.all_paths('A', 'F'))"
   ]
  },
  {
   "cell_type": "code",
   "execution_count": null,
   "metadata": {},
   "outputs": [],
   "source": []
  }
 ],
 "metadata": {
  "kernelspec": {
   "display_name": "SageMath 9.2",
   "language": "sage",
   "name": "sagemath"
  },
  "language_info": {
   "codemirror_mode": {
    "name": "ipython",
    "version": 3
   },
   "file_extension": ".py",
   "mimetype": "text/x-python",
   "name": "python",
   "nbconvert_exporter": "python",
   "pygments_lexer": "ipython3",
   "version": "3.7.7"
  }
 },
 "nbformat": 4,
 "nbformat_minor": 4
}
